{
 "cells": [
  {
   "cell_type": "code",
   "execution_count": null,
   "metadata": {},
   "outputs": [],
   "source": [
    "import numpy as np"
   ]
  },
  {
   "cell_type": "code",
   "execution_count": null,
   "metadata": {},
   "outputs": [],
   "source": [
    "def CUR(A,k):\n",
    "    Prob_c=np.square(A).sum(axis=0)/np.square(A).sum()\n",
    "    Prob_r=np.square(A).sum(axis=1)/np.square(A).sum()\n",
    "    def Column_Select(A,c,flag=True):\n",
    "        nonlocal Prob_c,Prob_r\n",
    "        if flag:\n",
    "            C=np.zeros((A.shape[0],c))\n",
    "            pos_array=np.zeros(c,dtype=np.int64)\n",
    "            for i in range(c):\n",
    "                j=np.random.choice(np.arange(A.shape[1]),p=Prob_c)\n",
    "                pos_array[i]=j\n",
    "                C[:,i]=A[:,j]/np.sqrt(c*Prob_c[j])\n",
    "        else:\n",
    "            C=np.zeros((c,A.shape[1]))\n",
    "            pos_array=np.zeros(c,dtype=np.int64)\n",
    "            for i in range(c):\n",
    "                j=np.random.choice(np.arange(A.shape[0]),p=Prob_r)\n",
    "                pos_array[i]=j\n",
    "                C[i,:]=A[j,:]/np.sqrt(c*Prob_r[j])\n",
    "        return C,pos_array\n",
    "    C,col_pos=Column_Select(A,min(4*k,A.shape[1]),True)     # Heuri\n",
    "    R,row_pos=Column_Select(A,min(4*k,A.shape[0]),False)    # Heuri\n",
    "    ixgrid=np.ix_(row_pos,col_pos)\n",
    "    W=A[ixgrid]\n",
    "    U=np.linalg.pinv(W)\n",
    "    return C,U,R"
   ]
  },
  {
   "cell_type": "code",
   "execution_count": null,
   "metadata": {},
   "outputs": [],
   "source": []
  }
 ],
 "metadata": {
  "kernelspec": {
   "display_name": "Python 3.10.4 64-bit",
   "language": "python",
   "name": "python3"
  },
  "language_info": {
   "name": "python",
   "version": "3.10.4"
  },
  "orig_nbformat": 4,
  "vscode": {
   "interpreter": {
    "hash": "916dbcbb3f70747c44a77c7bcd40155683ae19c65e1c03b4aa3499c5328201f1"
   }
  }
 },
 "nbformat": 4,
 "nbformat_minor": 2
}
