{
 "cells": [
  {
   "cell_type": "code",
   "execution_count": null,
   "metadata": {},
   "outputs": [],
   "source": [
    "import numpy as np\n",
    "import scipy as scp\n",
    "import pandas as pd"
   ]
  },
  {
   "cell_type": "code",
   "execution_count": null,
   "metadata": {},
   "outputs": [],
   "source": [
    "# # Pre-processing Section\n",
    "\n",
    "# path=\"./ml-latest/\"\n",
    "\n",
    "# # to do preprocessing uncomment the following paragraph and comment the immediate next like to it\n",
    "\n",
    "# data=pd.read_csv(path+\"ratings.csv\")\n",
    "# movie_ids=np.unique(data[\"movieId\"].values)\n",
    "# max_movie_id=np.max(movie_ids)\n",
    "# user_ids=np.unique(data[\"userId\"].values)\n",
    "# max_user_id=np.max(user_ids)\n",
    "# mat=np.zeros((max_movie_id+1,max_user_id+1))\n",
    "# for _,i in data.iterrows():\n",
    "#     mat[int(i[1])][int(i[0])]=i[2]\n",
    "\n",
    "\n",
    "\n",
    "\n",
    "\n",
    "\n",
    "A_big=np.array(np.random.binomial(n=1,p=0.4,size=(10,10)),dtype=np.float64)\n",
    "A_small=np.array(np.random.binomial(n=1,p=0.4,size=(5,5)),dtype=np.float64)\n",
    "\n",
    "\n",
    "# Returns A_big,A_small matrix\n"
   ]
  },
  {
   "cell_type": "code",
   "execution_count": null,
   "metadata": {},
   "outputs": [],
   "source": [
    "\n",
    "U,S,V_T=scp.sparse.linalg.svds(A_big)\n",
    "\n",
    "\n",
    "\n",
    "loss_list_big_SVD=[]\n",
    "for i in range(1,len(A_big)+1):\n",
    "    A_hat=U[:,:i]@np.diag(S[:i])@V_T[:i,:]\n",
    "    loss_list_big_SVD.append(np.linalg.norm(A_big-A_hat,ord='fro'))\n",
    "\n",
    "# U,S,V_T=scp.sparse.linalg.svds(A_small)\n",
    "U,S,V_T=np.linalg.svd(A_small)\n",
    "loss_list_small_SVD=[]\n",
    "for i in range(1,len(A_small)+1):\n",
    "    A_hat=U[:,:i]@np.diag(S[:i])@V_T[:i,:]\n",
    "    loss_list_small_SVD.append(np.linalg.norm(A_small-A_hat,ord='fro'))\n",
    "\n",
    "loss_list_big_CUR=[]\n",
    "for i in range(1,len(A_big)+1):\n",
    "    C,U,R=CUR(A_big,i)\n",
    "    A_hat=C@U@R\n",
    "    loss_list_big_CUR.append(np.linalg.norm(A_big-A_hat,ord='fro'))\n",
    "\n",
    "loss_list_small_CUR=[]\n",
    "for i in range(1,len(A_small)+1):\n",
    "    C,U,R=CUR(A_small,i)\n",
    "    A_hat=C@U@R\n",
    "    loss_list_small_CUR.append(np.linalg.norm(A_small-A_hat,ord='fro'))\n",
    "\n",
    "\n"
   ]
  },
  {
   "cell_type": "code",
   "execution_count": null,
   "metadata": {},
   "outputs": [],
   "source": [
    "print(loss_list_big_SVD)\n",
    "print(loss_list_big_CUR)\n"
   ]
  }
 ],
 "metadata": {
  "language_info": {
   "name": "python"
  },
  "orig_nbformat": 4
 },
 "nbformat": 4,
 "nbformat_minor": 2
}
