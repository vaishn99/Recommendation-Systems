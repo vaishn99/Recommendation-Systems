{
 "cells": [
  {
   "cell_type": "code",
   "execution_count": 45,
   "metadata": {},
   "outputs": [],
   "source": [
    "import numpy as np\n",
    "import scipy as scp\n",
    "import pandas as pd\n",
    "from matplotlib import pyplot as plt"
   ]
  },
  {
   "cell_type": "code",
   "execution_count": 35,
   "metadata": {},
   "outputs": [],
   "source": [
    "# # Pre-processing Section\n",
    "\n",
    "# path=\"./ml-latest/\"\n",
    "\n",
    "# # to do preprocessing uncomment the following paragraph and comment the immediate next like to it\n",
    "\n",
    "# data=pd.read_csv(path+\"ratings.csv\")\n",
    "# movie_ids=np.unique(data[\"movieId\"].values)\n",
    "# max_movie_id=np.max(movie_ids)\n",
    "# user_ids=np.unique(data[\"userId\"].values)\n",
    "# max_user_id=np.max(user_ids)\n",
    "# mat=np.zeros((max_movie_id+1,max_user_id+1))\n",
    "# for _,i in data.iterrows():\n",
    "#     mat[int(i[1])][int(i[0])]=i[2]\n",
    "\n",
    "\n",
    "\n",
    "# Sample Dataset\n",
    "\n",
    "\n",
    "A_big=np.array(np.random.binomial(n=1,p=0.4,size=(100,100)),dtype=np.float64)\n",
    "A_small=np.array(np.random.binomial(n=1,p=0.4,size=(50,50)),dtype=np.float64)\n",
    "A_big=np.ones((100,100))\n",
    "A_small=np.ones((50,50))\n",
    "\n"
   ]
  },
  {
   "cell_type": "code",
   "execution_count": 36,
   "metadata": {},
   "outputs": [],
   "source": [
    "def CUR(A,k):\n",
    "    Prob_c=np.square(A).sum(axis=0)/np.square(A).sum()\n",
    "    Prob_r=np.square(A).sum(axis=1)/np.square(A).sum()\n",
    "    def Column_Select(A,c,flag=True):\n",
    "        nonlocal Prob_c,Prob_r\n",
    "        if flag:\n",
    "            C=np.zeros((A.shape[0],c))\n",
    "            pos_array=np.zeros(c,dtype=np.int64)\n",
    "            for i in range(c):\n",
    "                j=np.random.choice(np.arange(A.shape[1]),p=Prob_c)\n",
    "                pos_array[i]=j\n",
    "                C[:,i]=A[:,j]/np.sqrt(c*Prob_c[j])\n",
    "        else:\n",
    "            C=np.zeros((c,A.shape[1]))\n",
    "            pos_array=np.zeros(c,dtype=np.int64)\n",
    "            for i in range(c):\n",
    "                j=np.random.choice(np.arange(A.shape[0]),p=Prob_r)\n",
    "                pos_array[i]=j\n",
    "                C[i,:]=A[j,:]/np.sqrt(c*Prob_r[j])\n",
    "        return C,pos_array\n",
    "    C,col_pos=Column_Select(A,min(4*k,A.shape[1]),True)     # Heuristic\n",
    "    R,row_pos=Column_Select(A,min(4*k,A.shape[0]),False)    # Heuristic\n",
    "    ixgrid=np.ix_(row_pos,col_pos)\n",
    "    W=A[ixgrid]\n",
    "    U=np.linalg.pinv(W)\n",
    "    return C,U,R"
   ]
  },
  {
   "cell_type": "code",
   "execution_count": null,
   "metadata": {},
   "outputs": [],
   "source": [
    "\n",
    "U,S,V_T=np.linalg.svd(A_big,full_matrices=False)\n",
    "S_bar=np.round(S,2)\n",
    "S_bar=S_bar[S_bar!=0]\n",
    "num_of_latent=S_bar.shape[0]\n",
    "print(num_of_latent)\n",
    "\n",
    "loss_list_big_SVD=[]\n",
    "\n",
    "\n",
    "for i in range(1,len(A_big)+1):\n",
    "    A_hat=U[:,:i]@np.diag(S[:i])@V_T[:i,:]\n",
    "    loss_list_big_SVD.append(np.linalg.norm(A_big-A_hat,ord='fro'))\n",
    "\n",
    "num_of_latent=0\n",
    "U,S,V_T=np.linalg.svd(A_small,full_matrices=False)\n",
    "S_bar=np.round(S,2)\n",
    "S_bar=S_bar[S_bar!=0]\n",
    "num_of_latent=S_bar.shape[0]\n",
    "print(num_of_latent)\n",
    "loss_list_small_SVD=[]\n",
    "for i in range(1,len(A_small)+1):\n",
    "    A_hat=U[:,:i]@np.diag(S[:i])@V_T[:i,:]\n",
    "    loss_list_small_SVD.append(np.linalg.norm(A_small-A_hat,ord='fro'))\n",
    "\n",
    "loss_list_big_CUR=[]\n",
    "for i in range(1,len(A_big)+1):\n",
    "    C,U,R=CUR(A_big,i)\n",
    "    A_hat=C@U@R\n",
    "    loss_list_big_CUR.append(np.linalg.norm(A_big-A_hat,ord='fro'))\n",
    "\n",
    "loss_list_small_CUR=[]\n",
    "for i in range(1,len(A_small)+1):\n",
    "    C,U,R=CUR(A_small,i)\n",
    "    A_hat=C@U@R\n",
    "    loss_list_small_CUR.append(np.linalg.norm(A_small-A_hat,ord='fro'))\n"
   ]
  },
  {
   "cell_type": "code",
   "execution_count": 41,
   "metadata": {},
   "outputs": [],
   "source": [
    "loss_list_big_CUR=np.array(loss_list_big_CUR)  # O(n)\n",
    "loss_list_big_SVD=np.array(loss_list_big_SVD)   # O(n)\n",
    "loss_list_small_SVD=np.array(loss_list_small_SVD)   # O(n)\n",
    "loss_list_small_CUR=np.array(loss_list_small_CUR)   # O(n)"
   ]
  },
  {
   "cell_type": "code",
   "execution_count": 42,
   "metadata": {},
   "outputs": [],
   "source": [
    "error_Big=loss_list_big_CUR-loss_list_big_SVD\n",
    "error_small=loss_list_small_CUR-loss_list_small_SVD\n"
   ]
  },
  {
   "cell_type": "code",
   "execution_count": 50,
   "metadata": {},
   "outputs": [],
   "source": [
    "A=np.ones((4,5))\n",
    "m,n=A.shape"
   ]
  },
  {
   "cell_type": "code",
   "execution_count": null,
   "metadata": {},
   "outputs": [],
   "source": [
    "# P,Q decomposition\n",
    "\n",
    "A=np.ones((4,5))\n",
    "def Loss_at(P,Q):\n",
    "    return 0\n",
    "\n",
    "def PQ(A,k,eps=0.1):\n",
    "    m,n=A.shape\n",
    "    P=np.ones((m,k))\n",
    "    Q=np.ones((n,k))\n",
    "    u=5\n",
    "    for u in range(n):\n",
    "        Q[u,:]=Q[u,:]-eps*Loss_at(P,Q,A,u)\n",
    "\n",
    "    return P,Q"
   ]
  }
 ],
 "metadata": {
  "kernelspec": {
   "display_name": "Python 3.10.4 64-bit",
   "language": "python",
   "name": "python3"
  },
  "language_info": {
   "codemirror_mode": {
    "name": "ipython",
    "version": 3
   },
   "file_extension": ".py",
   "mimetype": "text/x-python",
   "name": "python",
   "nbconvert_exporter": "python",
   "pygments_lexer": "ipython3",
   "version": "3.10.4"
  },
  "orig_nbformat": 4,
  "vscode": {
   "interpreter": {
    "hash": "916dbcbb3f70747c44a77c7bcd40155683ae19c65e1c03b4aa3499c5328201f1"
   }
  }
 },
 "nbformat": 4,
 "nbformat_minor": 2
}
